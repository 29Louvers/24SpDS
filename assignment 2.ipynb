{
  "nbformat": 4,
  "nbformat_minor": 0,
  "metadata": {
    "colab": {
      "provenance": [],
      "authorship_tag": "ABX9TyPyBqWg1c0ybhYM0oGPfAgx",
      "include_colab_link": true
    },
    "kernelspec": {
      "name": "python3",
      "display_name": "Python 3"
    },
    "language_info": {
      "name": "python"
    }
  },
  "cells": [
    {
      "cell_type": "markdown",
      "metadata": {
        "id": "view-in-github",
        "colab_type": "text"
      },
      "source": [
        "<a href=\"https://colab.research.google.com/github/29Louvers/24SpDS/blob/main/assignment%202.ipynb\" target=\"_parent\"><img src=\"https://colab.research.google.com/assets/colab-badge.svg\" alt=\"Open In Colab\"/></a>"
      ]
    },
    {
      "cell_type": "code",
      "execution_count": 10,
      "metadata": {
        "colab": {
          "base_uri": "https://localhost:8080/"
        },
        "id": "vTDXitPooa2x",
        "outputId": "1baf0dc1-94b1-41fa-d442-3adecef66a58"
      },
      "outputs": [
        {
          "output_type": "stream",
          "name": "stdout",
          "text": [
            "No tomatoes here.\n",
            "No tomatoes here.\n",
            "No tomatoes here.\n",
            "No tomatoes here.\n",
            "No tomatoes here.\n"
          ]
        }
      ],
      "source": [
        "food = [\"apples\", \"oranges\", \"mangos\", \"bananas\", \"blueberries\"]\n",
        "def find_fruit(fruit, hungryfor):\n",
        "  for fkjh in fruit:\n",
        "    if fkjh == \"tomatoes\" :\n",
        "      print(\"Hooray!  I found mangos.\")\n",
        "    else:\n",
        "      print(\"No tomatoes here.\")\n",
        "\n",
        "hungryfor = \"tomatoes\"\n",
        "find_fruit(food, hungryfor)"
      ]
    }
  ]
}