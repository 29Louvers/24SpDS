{
  "nbformat": 4,
  "nbformat_minor": 0,
  "metadata": {
    "colab": {
      "provenance": [],
      "authorship_tag": "ABX9TyNqma3DAkeq3cSYwCa3kmBA",
      "include_colab_link": true
    },
    "kernelspec": {
      "name": "python3",
      "display_name": "Python 3"
    },
    "language_info": {
      "name": "python"
    }
  },
  "cells": [
    {
      "cell_type": "markdown",
      "metadata": {
        "id": "view-in-github",
        "colab_type": "text"
      },
      "source": [
        "<a href=\"https://colab.research.google.com/github/29Louvers/24SpDS/blob/main/guessing_game.ipynb\" target=\"_parent\"><img src=\"https://colab.research.google.com/assets/colab-badge.svg\" alt=\"Open In Colab\"/></a>"
      ]
    },
    {
      "cell_type": "code",
      "execution_count": 23,
      "metadata": {
        "colab": {
          "base_uri": "https://localhost:8080/"
        },
        "id": "nye1OMIrjIES",
        "outputId": "a603b957-1bfa-42d6-c23a-c98f7ebc6305"
      },
      "outputs": [
        {
          "output_type": "stream",
          "name": "stdout",
          "text": [
            "computer is selecting an number 0 and 100\n",
            "guess a number 0 to 100: 50\n",
            "too low\n",
            "guess a number 0 to 100: 75\n",
            "too low\n",
            "guess a number 0 to 100: 85\n",
            "too low\n",
            "guess a number 0 to 100: 93\n",
            "too low\n",
            "guess a number 0 to 100: 96\n",
            "too low\n",
            "guess a number 0 to 100: 98\n",
            "you got it\n",
            "It took you 6 tries\n"
          ]
        }
      ],
      "source": [
        "import numpy as np\n",
        "\n",
        "\n",
        "# creating a random number\n",
        "print(\"computer is selecting an number 0 and 100\")\n",
        "answer = np.random.randint(0,100)\n",
        "# print(\"The answer is\", answer) # debugging\n",
        "\n",
        "attempts = 0\n",
        "\n",
        "while True:\n",
        "  guess = input(\"guess a number 0 to 100: \")\n",
        "  # print(type(guess)) <- this tells us it's a string\n",
        "\n",
        "  # attempts = attempts + 1\n",
        "  attempts += 1\n",
        "\n",
        "  # error handling\n",
        "  try:\n",
        "    guess = int(guess) # casts the str as an int\n",
        "  except:\n",
        "    print(\"That's not a number!\")\n",
        "    continue # skips to the next iteration of the loop\n",
        "\n",
        "  # core logic\n",
        "  if guess == answer:\n",
        "    print(\"you got it\")\n",
        "    print(\"It took you\", attempts, \"tries\")\n",
        "    break # gets us out of the while loop\n",
        "  elif guess > answer:\n",
        "    print(\"too high\")\n",
        "  else:\n",
        "    print(\"too low\")"
      ]
    }
  ]
}